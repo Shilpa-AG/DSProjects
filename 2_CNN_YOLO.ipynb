{
  "nbformat": 4,
  "nbformat_minor": 0,
  "metadata": {
    "colab": {
      "provenance": [],
      "gpuType": "T4"
    },
    "kernelspec": {
      "name": "python3",
      "display_name": "Python 3"
    },
    "language_info": {
      "name": "python"
    },
    "accelerator": "GPU"
  },
  "cells": [
    {
      "cell_type": "markdown",
      "source": [
        "**CNN MODEL BUILDING**"
      ],
      "metadata": {
        "id": "z4DZJG2wOzek"
      }
    },
    {
      "cell_type": "markdown",
      "source": [
        "All images in CROCUFID are high-quality standardized 8 bits color pictures with a resolution of 5184 pixels × 3456 pixels. For the validation studies reported in this paper the images were reduced in size to 1037 pixels × 691 pixels."
      ],
      "metadata": {
        "id": "jpr54eLdI8yy"
      }
    },
    {
      "cell_type": "code",
      "source": [
        "# 1. Importing Libraries\n",
        "\n",
        "#Python packages\n",
        "import numpy as np\n",
        "import pandas as pd\n",
        "\n",
        "#Plotting\n",
        "from matplotlib import pyplot as plt\n",
        "from matplotlib import image as mpimg\n",
        "\n",
        "# Model Building\n",
        "import cv2\n",
        "import os\n",
        "import tensorflow as tf\n",
        "from tensorflow.keras import layers,models\n"
      ],
      "metadata": {
        "id": "rS4ZKh_cOwfJ"
      },
      "execution_count": null,
      "outputs": []
    },
    {
      "cell_type": "code",
      "source": [
        "# 2. Importing Drive\n",
        "from google.colab import drive\n",
        "drive.mount('/content/gdrive')"
      ],
      "metadata": {
        "colab": {
          "base_uri": "https://localhost:8080/"
        },
        "id": "yUxloGX0Oxpp",
        "outputId": "b45941b8-e4ca-4531-92f4-babb03eedc9f"
      },
      "execution_count": null,
      "outputs": [
        {
          "output_type": "stream",
          "name": "stdout",
          "text": [
            "Drive already mounted at /content/gdrive; to attempt to forcibly remount, call drive.mount(\"/content/gdrive\", force_remount=True).\n"
          ]
        }
      ]
    },
    {
      "cell_type": "code",
      "source": [
        "#3. Defining path to access the data files from google Drive\n",
        "os.chdir('/content/gdrive/My Drive/YOLO/data/Plated_Foods/train/asian')\n",
        "os.getcwd()\n",
        "path = '/content/gdrive/My Drive/YOLO/data/Plated_Foods/train/asian'\n",
        "target = os.listdir(path)\n",
        "labels = np.arange(0,len(target)).tolist()\n",
        "print(target,'\\n',labels, len(labels))\n"
      ],
      "metadata": {
        "id": "biRHXwijRa6D"
      },
      "execution_count": null,
      "outputs": []
    },
    {
      "cell_type": "code",
      "source": [
        "# Errors Trying different plotting methods:\n",
        "# 1. cv.imread\n",
        "# img = cv2.imread('/content/gdrive/My Drive/YOLO/data/Plated_Foods/train/asian/0411.jpg')\n",
        "# cv2.imshow(\"Asian\",img)\n",
        "# #2. PIL Image\n",
        "# from PIL import Image\n",
        "# image=Image.open(r\"/content/gdrive/My Drive/YOLO/data/Plated_Foods/train/asian/0411.jpg\")\n",
        "# image.show()"
      ],
      "metadata": {
        "id": "VBKq0FiSOxvG"
      },
      "execution_count": null,
      "outputs": []
    },
    {
      "cell_type": "code",
      "source": [
        "# EXAMPLE CODE FOR REFERENCE\n",
        "\n",
        "# Example 1: for image display using matplotlib image\n",
        "# im1 = mpimg.imread('/content/gdrive/My Drive/YOLO/data/Plated_Foods/train/asian/0411.jpg')\n",
        "# plt.imshow(im1)\n",
        "# plt.show()\n",
        "\n",
        "# Example 2: Getting single image size\n",
        "# p1 = '/content/gdrive/My Drive/YOLO/data/Plated_Foods/train/'+data + '/'\n",
        "# file = os.listdir(p1)\n",
        "# im1 = cv2.imread(p1+file[0])\n",
        "# im1.shape[:4]\n",
        "\n",
        "#Example 3: For one hot encoding:\n",
        "# from tensorflow.keras.utils import to_categorical\n",
        "# y_train = to_categorical(data.target)\n",
        "# y_train"
      ],
      "metadata": {
        "id": "gg6MmffiOxzt"
      },
      "execution_count": null,
      "outputs": []
    },
    {
      "cell_type": "code",
      "source": [
        "# 4. Creating the lists for creating the data frame\n",
        "img_list =[]\n",
        "cuisine_list =[]\n",
        "cuisine =  []\n",
        "\n",
        "for data in target:\n",
        "  names= os.walk('/content/gdrive/My Drive/YOLO/data/Plated_Foods/train/'+data)\n",
        "  for path,j,images in names:\n",
        "    length_of_images = len(images)\n",
        "    #print('Cuisine is :{}, type is: {}'.format(data, type(data)))\n",
        "\n",
        "    img_list.extend(images)\n",
        "    cuisine = [data for x in range(0,length_of_images)]\n",
        "    cuisine_list.extend(cuisine)\n",
        "\n",
        "print(img_list)\n",
        "print(cuisine_list)"
      ],
      "metadata": {
        "colab": {
          "base_uri": "https://localhost:8080/"
        },
        "id": "rGPbeJllLZr2",
        "outputId": "2b3d5349-c9db-4033-8c5e-579aae39ab28"
      },
      "execution_count": null,
      "outputs": [
        {
          "output_type": "stream",
          "name": "stdout",
          "text": [
            "['0590.jpg', '0589.jpg', '0588.jpg', '0090.jpg', '0088.jpg', '0089.jpg', '0086.jpg', '0087.jpg', '0104.jpg', '0107.jpg', '0108.jpg', '0106.jpg', '0112.jpg', '0111.jpg', '0109.jpg', '0113.jpg', '0114.jpg', '0122.jpg', '0152.jpg', '0153.jpg', '0154.jpg', '0167.jpg', '0166.jpg', '0184.jpg', '0185.jpg', '0190.jpg', '0189.jpg', '0191.jpg', '0227.jpg', '0340.jpg', '0342.jpg', '0341.jpg', '0966.jpg', '0959.jpg', '0963.jpg', '0956.jpg', '0964.jpg', '0961.jpg', '0967.jpg', '0954.jpg', '0958.jpg', '0957.jpg', '0962.jpg', '0965.jpg', '0960.jpg', '0979.jpg', '0983.jpg', '0984.jpg', '0981.jpg', '0982.jpg', '0969.jpg', '0986.jpg', '0975.jpg', '0974.jpg', '0972.jpg', '0985.jpg', '0973.jpg', '0976.jpg', '0980.jpg', '0968.jpg', '0977.jpg', '0978.jpg', '0971.jpg', '0970.jpg', '0001.jpg', '0004.jpg', '0002.jpg', '0003.jpg', '0009.jpg', '0011.jpg', '0010.jpg', '0013.jpg', '0015.jpg', '0016.jpg', '0018.jpg', '0020.jpg', '0019.jpg', '0023.jpg', '0031.jpg', '0030.jpg', '0026.jpg', '0027.jpg', '0025.jpg', '0029.jpg', '0028.jpg', '0033.jpg', '0034.jpg', '0035.jpg', '0036.jpg', '0038.jpg', '0039.jpg', '0043.jpg', '0042.jpg', '0044.jpg', '0045.jpg', '0048.jpg', '0054.jpg', '0055.jpg', '0053.jpg', '0059.jpg', '0058.jpg', '0057.jpg', '0065.jpg', '0067.jpg', '0066.jpg', '0069.jpg', '0068.jpg', '0070.jpg', '0071.jpg', '0063.jpg', '0064.jpg', '0073.jpg', '0075.jpg', '0072.jpg', '0078.jpg', '0074.jpg', '0081.jpg', '0082.jpg', '0076.jpg', '0077.jpg', '0079.jpg', '0080.jpg', '0093.jpg', '0091.jpg', '0092.jpg', '0100.jpg', '0128.jpg', '0129.jpg', '0127.jpg', '0148.jpg', '0149.jpg', '0146.jpg', '0151.jpg', '0150.jpg', '0147.jpg', '0155.jpg', '0157.jpg', '0156.jpg', '0162.jpg', '0160.jpg', '0164.jpg', '0161.jpg', '0163.jpg', '0169.jpg', '0173.jpg', '0183.jpg', '0187.jpg', '0186.jpg', '0188.jpg', '0292.jpg', '0293.jpg', '0291.jpg', '0290.jpg', '0289.jpg', '0294.jpg', '0297.jpg', '0298.jpg', '0300.jpg', '0301.jpg', '0307.jpg', '0328.jpg', '0323.jpg', '0324.jpg', '0327.jpg', '0325.jpg', '0326.jpg', '0329.jpg', '0331.jpg', '0333.jpg', '0332.jpg', '0336.jpg', '0351.jpg', '0357.jpg', '0380.jpg', '0381.jpg', '0635.jpg', '0634.jpg', '0662.jpg', '0663.jpg', '0692.jpg', '0724.jpg', '0722.jpg', '0718.jpg', '0723.jpg', '0720.jpg', '0716.jpg', '0712.jpg', '0721.jpg', '0715.jpg', '0714.jpg', '0713.jpg', '0717.jpg', '0719.jpg', '0727.jpg', '0728.jpg', '0736.jpg', '0735.jpg', '0734.jpg', '0935.jpg', '0949.jpg', '0933.jpg', '0934.jpg', '0936.jpg', '0239.jpg', '0238.jpg', '0209.jpg', '0196.jpg', '0203.jpg', '0208.jpg', '0200.jpg', '0194.jpg', '0195.jpg', '0212.jpg', '0213.jpg', '0201.jpg', '0206.jpg', '0197.jpg', '0211.jpg', '0193.jpg', '0207.jpg', '0205.jpg', '0202.jpg', '0199.jpg', '0214.jpg', '0224.jpg', '0225.jpg', '0218.jpg', '0222.jpg', '0226.jpg', '0220.jpg', '0219.jpg', '0221.jpg', '0216.jpg', '0231.jpg', '0229.jpg', '0232.jpg', '0228.jpg', '0237.jpg', '0235.jpg', '0234.jpg', '0233.jpg', '0276.jpg', '0275.jpg', '0277.jpg', '0260.jpg', '0288.jpg', '0270.jpg', '0280.jpg', '0257.jpg', '0263.jpg', '0281.jpg', '0268.jpg', '0259.jpg', '0274.jpg', '0284.jpg', '0271.jpg', '0266.jpg', '0265.jpg', '0283.jpg', '0256.jpg', '0282.jpg', '0264.jpg', '0272.jpg', '0278.jpg', '0253.jpg', '0262.jpg', '0254.jpg', '0269.jpg', '0258.jpg', '0287.jpg', '0286.jpg', '0318.jpg', '0320.jpg', '0317.jpg', '0793.jpg', '0759.jpg', '0769.jpg', '0753.jpg', '0748.jpg', '0771.jpg', '0762.jpg', '0791.jpg', '0765.jpg', '0799.jpg', '0774.jpg', '0772.jpg', '0803.jpg', '0760.jpg', '0773.jpg', '0757.jpg', '0770.jpg', '0761.jpg', '0794.jpg', '0782.jpg', '0749.jpg', '0779.jpg', '0754.jpg', '0789.jpg', '0785.jpg', '0776.jpg', '0792.jpg', '0801.jpg', '0766.jpg', '0778.jpg', '0751.jpg', '0756.jpg', '0788.jpg', '0767.jpg', '0775.jpg', '0768.jpg', '0781.jpg', '0800.jpg', '0784.jpg', '0795.jpg', '0796.jpg', '0780.jpg', '0804.jpg', '0777.jpg', '0797.jpg', '0786.jpg', '0798.jpg', '0790.jpg', '0755.jpg', '0787.jpg', '0802.jpg', '0783.jpg', '0763.jpg', '0750.jpg', '0821.jpg', '0827.jpg', '0823.jpg', '0825.jpg', '0808.jpg', '0813.jpg', '0815.jpg', '0826.jpg', '0807.jpg', '0818.jpg', '0806.jpg', '0805.jpg', '0811.jpg', '0809.jpg', '0824.jpg', '0817.jpg', '0820.jpg', '0814.jpg', '0812.jpg', '0816.jpg', '0810.jpg', '0819.jpg', '0822.jpg', '0085.jpg', '0094.jpg', '0097.jpg', '0095.jpg', '0099.jpg', '0098.jpg', '0096.jpg', '0101.jpg', '0102.jpg', '0105.jpg', '0116.jpg', '0115.jpg', '0117.jpg', '0121.jpg', '0120.jpg', '0119.jpg', '0118.jpg', '0124.jpg', '0125.jpg', '0126.jpg', '0134.jpg', '0139.jpg', '0138.jpg', '0144.jpg', '0141.jpg', '0142.jpg', '0133.jpg', '0131.jpg', '0145.jpg', '0130.jpg', '0140.jpg', '0135.jpg', '0136.jpg', '0143.jpg', '0137.jpg', '0132.jpg', '0158.jpg', '0159.jpg', '0165.jpg', '0171.jpg', '0170.jpg', '0172.jpg', '0178.jpg', '0176.jpg', '0177.jpg', '0175.jpg', '0174.jpg', '0179.jpg', '0180.jpg', '0181.jpg', '0182.jpg', '0245.jpg', '0241.jpg', '0248.jpg', '0240.jpg', '0242.jpg', '0246.jpg', '0247.jpg', '0244.jpg', '0243.jpg', '0251.jpg', '0249.jpg', '0250.jpg', '0252.jpg', '0296.jpg', '0295.jpg', '0299.jpg', '0305.jpg', '0302.jpg', '0306.jpg', '0304.jpg', '0303.jpg', '0314.jpg', '0313.jpg', '0316.jpg', '0311.jpg', '0308.jpg', '0312.jpg', '0310.jpg', '0315.jpg', '0309.jpg', '0322.jpg', '0321.jpg', '0335.jpg', '0334.jpg', '0337.jpg', '0339.jpg', '0338.jpg', '0348.jpg', '0344.jpg', '0349.jpg', '0346.jpg', '0350.jpg', '0343.jpg', '0347.jpg', '0345.jpg', '0352.jpg', '0354.jpg', '0355.jpg', '0353.jpg', '0575.jpg', '0584.jpg', '0574.jpg', '0578.jpg', '0581.jpg', '0586.jpg', '0585.jpg', '0577.jpg', '0573.jpg', '0579.jpg', '0583.jpg', '0576.jpg', '0582.jpg', '0587.jpg', '0580.jpg', '0598.jpg', '0595.jpg', '0593.jpg', '0597.jpg', '0594.jpg', '0596.jpg', '0592.jpg', '0617.jpg', '0616.jpg', '0626.jpg', '0627.jpg', '0625.jpg', '0636.jpg', '0638.jpg', '0637.jpg', '0640.jpg', '0639.jpg', '0659.jpg', '0660.jpg', '0667.jpg', '0668.jpg', '0665.jpg', '0664.jpg', '0666.jpg', '0677.jpg', '0676.jpg', '0674.jpg', '0675.jpg', '0673.jpg', '0678.jpg', '0681.jpg', '0685.jpg', '0683.jpg', '0684.jpg', '0697.jpg', '0696.jpg', '0695.jpg', '0700.jpg', '0701.jpg', '0698.jpg', '0699.jpg', '0707.jpg', '0708.jpg', '0740.jpg', '0741.jpg', '0739.jpg', '0744.jpg', '0743.jpg', '0745.jpg', '0747.jpg', '0746.jpg', '0834.jpg', '0835.jpg', '0828.JPG', '0836.jpg', '0831.JPG', '0833.jpg', '0830.jpg', '0832.jpg', '0829.JPG', '0837.jpg', '0839.jpg', '0838.jpg', '0840.jpg', '0873.jpg', '0861.jpg', '0865.jpg', '0875.jpg', '0871.jpg', '0866.jpg', '0870.jpg', '0863.jpg', '0868.jpg', '0859.jpg', '0857.jpg', '0872.jpg', '0877.jpg', '0879.jpg', '0881.jpg', '0880.jpg', '0878.jpg', '0883.jpg', '0898.jpg', '0897.jpg', '0392.jpg', '0418.jpg', '0407.jpg', '0398.jpg', '0401.jpg', '0419.jpg', '0408.jpg', '0402.jpg', '0412.jpg', '0410.jpg', '0395.jpg', '0409.jpg', '0400.jpg', '0394.jpg', '0399.jpg', '0416.jpg', '0415.jpg', '0417.jpg', '0396.jpg', '0413.jpg', '0414.jpg', '0411.jpg', '0406.jpg', '0420.jpg', '0393.jpg', '0405.jpg', '0397.jpg', '0404.jpg', '0421.jpg', '0403.jpg', '0438.jpg', '0449.jpg', '0435.jpg', '0447.jpg', '0443.jpg', '0424.jpg', '0439.jpg', '0427.jpg', '0428.jpg', '0436.jpg', '0442.jpg', '0440.jpg', '0434.jpg', '0430.jpg', '0445.jpg', '0450.jpg', '0431.jpg', '0425.jpg', '0423.jpg', '0446.jpg', '0441.jpg', '0451.jpg', '0437.jpg', '0452.jpg', '0444.jpg', '0448.jpg', '0433.jpg', '0429.jpg', '0422.jpg', '0426.jpg', '0432.jpg', '0459.jpg', '0484.jpg', '0460.jpg', '0463.jpg', '0482.jpg', '0469.jpg', '0472.jpg', '0456.jpg', '0480.jpg', '0470.jpg', '0468.jpg', '0473.jpg', '0487.jpg', '0453.jpg', '0481.jpg', '0476.jpg', '0478.jpg', '0485.jpg', '0458.jpg', '0486.jpg', '0467.jpg', '0471.jpg', '0457.jpg', '0477.jpg', '0461.jpg', '0483.jpg', '0455.jpg', '0465.jpg', '0475.jpg', '0479.jpg', '0466.jpg', '0462.jpg', '0474.jpg', '0454.jpg', '0464.jpg', '0493.jpg', '0499.jpg', '0489.jpg', '0494.jpg', '0504.jpg', '0497.jpg', '0521.jpg', '0502.jpg', '0510.jpg', '0529.jpg', '0512.jpg', '0524.jpg', '0500.jpg', '0506.jpg', '0517.jpg', '0528.jpg', '0495.jpg', '0508.jpg', '0526.jpg', '0525.jpg', '0511.jpg', '0520.jpg', '0522.jpg', '0492.jpg', '0518.jpg', '0514.jpg', '0505.jpg', '0490.jpg', '0488.jpg', '0527.jpg', '0501.jpg', '0503.jpg', '0491.jpg', '0515.jpg', '0523.jpg', '0507.jpg', '0519.jpg', '0509.jpg', '0513.jpg', '0496.jpg', '0498.jpg', '0516.jpg', '0571.jpg', '0530.jpg', '0546.jpg', '0551.jpg', '0568.jpg', '0539.jpg', '0536.jpg', '0554.jpg', '0563.jpg', '0533.jpg', '0558.jpg', '0564.jpg', '0540.jpg', '0566.jpg', '0544.jpg', '0532.jpg', '0542.jpg', '0561.jpg', '0570.jpg', '0572.jpg', '0543.jpg', '0548.jpg', '0549.jpg', '0562.jpg', '0553.jpg', '0555.jpg', '0541.jpg', '0565.jpg', '0538.jpg', '0545.jpg', '0537.jpg', '0534.jpg', '0559.jpg', '0560.jpg', '0547.jpg', '0556.jpg', '0569.jpg', '0535.jpg', '0557.jpg', '0567.jpg', '0550.jpg', '0531.jpg', '0552.jpg', '0615.jpg', '0612.jpg', '0599.jpg', '0607.jpg', '0605.jpg', '0613.jpg', '0602.jpg', '0606.jpg', '0608.jpg', '0610.jpg', '0604.jpg', '0609.jpg', '0603.jpg', '0614.jpg', '0601.jpg', '0600.jpg', '0611.jpg', '0621.jpg', '0622.jpg', '0624.jpg', '0620.jpg', '0618.jpg', '0623.jpg', '0619.jpg', '0633.jpg', '0632.jpg', '0628.jpg', '0630.jpg', '0629.jpg', '0631.jpg', '0644.jpg', '0658.jpg', '0651.jpg', '0655.jpg', '0656.jpg', '0648.jpg', '0643.jpg', '0657.jpg', '0649.jpg', '0652.jpg', '0641.jpg', '0650.jpg', '0654.jpg', '0646.jpg', '0645.jpg', '0642.jpg', '0653.jpg', '0647.jpg', '0661.jpg', '0670.jpg', '0671.jpg', '0669.jpg', '0672.jpg', '0680.jpg', '0679.jpg', '0682.jpg', '0689.jpg', '0691.jpg', '0687.jpg', '0690.jpg', '0686.jpg', '0688.jpg', '0694.jpg', '0693.jpg', '0705.jpg', '0706.jpg', '0704.jpg', '0703.jpg', '0702.jpg', '0710.jpg', '0711.jpg', '0709.jpg', '0725.jpg', '0726.jpg', '0733.jpg', '0731.jpg', '0732.jpg', '0730.jpg', '0729.jpg', '0737.jpg', '0738.jpg', '0742.jpg', '0848.jpg', '0843.jpg', '0853.jpg', '0844.jpg', '0847.jpg', '0850.jpg', '0842.jpg', '0852.jpg', '0854.jpg', '0846.jpg', '0855.jpg', '0856.jpg', '0851.jpg', '0845.jpg', '0841.jpg', '0849.jpg', '0858.jpg', '0860.jpg', '0862.jpg', '0864.jpg', '0874.jpg', '0869.jpg', '0867.jpg', '0876.jpg', '0882.jpg', '0884.jpg', '0885.jpg', '0888.jpg', '0887.jpg', '0886.jpg', '0894.jpg', '0893.jpg', '0891.jpg', '0892.jpg', '0889.jpg', '0890.jpg', '0895.jpg', '0896.jpg', '0914.jpg', '0900.jpg', '0904.jpg', '0917.jpg', '0919.jpg', '0906.jpg', '0910.jpg', '0926.jpg', '0903.jpg', '0927.jpg', '0915.jpg', '0899.jpg', '0918.jpg', '0905.jpg', '0907.jpg', '0924.jpg', '0909.jpg', '0911.jpg', '0901.jpg', '0902.jpg', '0921.jpg', '0920.jpg', '0922.jpg', '0916.jpg', '0913.jpg', '0923.jpg', '0912.jpg', '0925.jpg', '0908.jpg', '0929.jpg', '0932.jpg', '0930.jpg', '0931.jpg', '0928.jpg']\n",
            "['african', 'african', 'african', 'unappealing', 'unappealing', 'unappealing', 'unappealing', 'unappealing', 'unappealing', 'unappealing', 'unappealing', 'unappealing', 'unappealing', 'unappealing', 'unappealing', 'unappealing', 'unappealing', 'unappealing', 'unappealing', 'unappealing', 'unappealing', 'unappealing', 'unappealing', 'unappealing', 'unappealing', 'unappealing', 'unappealing', 'unappealing', 'unappealing', 'unappealing', 'unappealing', 'unappealing', 'unappealing', 'unappealing', 'unappealing', 'unappealing', 'unappealing', 'unappealing', 'unappealing', 'unappealing', 'unappealing', 'unappealing', 'unappealing', 'unappealing', 'unappealing', 'unappealing', 'unappealing', 'unappealing', 'unappealing', 'unappealing', 'unappealing', 'unappealing', 'unappealing', 'unappealing', 'unappealing', 'unappealing', 'unappealing', 'unappealing', 'unappealing', 'unappealing', 'unappealing', 'unappealing', 'unappealing', 'unappealing', 'universal', 'universal', 'universal', 'universal', 'universal', 'universal', 'universal', 'universal', 'universal', 'universal', 'universal', 'universal', 'universal', 'universal', 'universal', 'universal', 'universal', 'universal', 'universal', 'universal', 'universal', 'universal', 'universal', 'universal', 'universal', 'universal', 'universal', 'universal', 'universal', 'universal', 'universal', 'universal', 'universal', 'universal', 'universal', 'universal', 'universal', 'universal', 'universal', 'universal', 'universal', 'universal', 'universal', 'universal', 'universal', 'universal', 'universal', 'universal', 'universal', 'universal', 'universal', 'universal', 'universal', 'universal', 'universal', 'universal', 'universal', 'universal', 'universal', 'universal', 'universal', 'universal', 'universal', 'universal', 'universal', 'universal', 'universal', 'universal', 'universal', 'universal', 'universal', 'universal', 'universal', 'universal', 'universal', 'universal', 'universal', 'universal', 'universal', 'universal', 'universal', 'universal', 'universal', 'universal', 'universal', 'universal', 'universal', 'universal', 'universal', 'universal', 'universal', 'universal', 'universal', 'universal', 'universal', 'universal', 'universal', 'universal', 'universal', 'universal', 'universal', 'universal', 'universal', 'universal', 'universal', 'universal', 'universal', 'universal', 'universal', 'universal', 'universal', 'universal', 'universal', 'universal', 'universal', 'universal', 'universal', 'universal', 'universal', 'universal', 'universal', 'universal', 'universal', 'universal', 'universal', 'universal', 'universal', 'universal', 'universal', 'universal', 'universal', 'universal', 'universal', 'universal', 'universal', 'universal', 'universal', 'universal', 'universal', 'non_food', 'non_food', 'non_food', 'non_food', 'non_food', 'non_food', 'non_food', 'non_food', 'non_food', 'non_food', 'non_food', 'non_food', 'non_food', 'non_food', 'non_food', 'non_food', 'non_food', 'non_food', 'non_food', 'non_food', 'non_food', 'non_food', 'non_food', 'non_food', 'non_food', 'non_food', 'non_food', 'non_food', 'non_food', 'non_food', 'non_food', 'non_food', 'non_food', 'non_food', 'non_food', 'non_food', 'non_food', 'non_food', 'non_food', 'non_food', 'non_food', 'non_food', 'non_food', 'non_food', 'non_food', 'non_food', 'non_food', 'non_food', 'non_food', 'non_food', 'non_food', 'non_food', 'non_food', 'non_food', 'non_food', 'non_food', 'non_food', 'non_food', 'non_food', 'non_food', 'non_food', 'non_food', 'non_food', 'non_food', 'non_food', 'non_food', 'non_food', 'non_food', 'non_food', 'non_food', 'non_food', 'non_food', 'non_food', 'non_food', 'non_food', 'non_food', 'non_food', 'non_food', 'non_food', 'non_food', 'non_food', 'non_food', 'non_food', 'non_food', 'non_food', 'non_food', 'non_food', 'non_food', 'non_food', 'non_food', 'non_food', 'non_food', 'non_food', 'non_food', 'non_food', 'non_food', 'non_food', 'non_food', 'non_food', 'non_food', 'non_food', 'non_food', 'non_food', 'non_food', 'non_food', 'non_food', 'non_food', 'non_food', 'non_food', 'non_food', 'non_food', 'non_food', 'non_food', 'non_food', 'non_food', 'non_food', 'non_food', 'non_food', 'non_food', 'non_food', 'non_food', 'non_food', 'non_food', 'non_food', 'non_food', 'non_food', 'non_food', 'non_food', 'non_food', 'non_food', 'non_food', 'non_food', 'non_food', 'non_food', 'non_food', 'non_food', 'non_food', 'non_food', 'non_food', 'non_food', 'non_food', 'non_food', 'non_food', 'non_food', 'non_food', 'non_food', 'non_food', 'non_food', 'western', 'western', 'western', 'western', 'western', 'western', 'western', 'western', 'western', 'western', 'western', 'western', 'western', 'western', 'western', 'western', 'western', 'western', 'western', 'western', 'western', 'western', 'western', 'western', 'western', 'western', 'western', 'western', 'western', 'western', 'western', 'western', 'western', 'western', 'western', 'western', 'western', 'western', 'western', 'western', 'western', 'western', 'western', 'western', 'western', 'western', 'western', 'western', 'western', 'western', 'western', 'western', 'western', 'western', 'western', 'western', 'western', 'western', 'western', 'western', 'western', 'western', 'western', 'western', 'western', 'western', 'western', 'western', 'western', 'western', 'western', 'western', 'western', 'western', 'western', 'western', 'western', 'western', 'western', 'western', 'western', 'western', 'western', 'western', 'western', 'western', 'western', 'western', 'western', 'western', 'western', 'western', 'western', 'western', 'western', 'western', 'western', 'western', 'western', 'western', 'western', 'western', 'western', 'western', 'western', 'western', 'western', 'western', 'western', 'western', 'western', 'western', 'western', 'western', 'western', 'western', 'western', 'western', 'western', 'western', 'western', 'western', 'western', 'western', 'western', 'western', 'western', 'western', 'western', 'western', 'western', 'western', 'western', 'western', 'western', 'western', 'western', 'western', 'western', 'western', 'western', 'western', 'western', 'western', 'western', 'western', 'western', 'western', 'western', 'western', 'western', 'western', 'western', 'western', 'western', 'western', 'western', 'western', 'western', 'western', 'western', 'western', 'western', 'western', 'western', 'western', 'western', 'western', 'western', 'western', 'western', 'western', 'western', 'western', 'western', 'western', 'western', 'western', 'western', 'western', 'western', 'western', 'western', 'western', 'western', 'western', 'western', 'western', 'western', 'western', 'western', 'western', 'western', 'western', 'western', 'western', 'western', 'western', 'western', 'asian', 'asian', 'asian', 'asian', 'asian', 'asian', 'asian', 'asian', 'asian', 'asian', 'asian', 'asian', 'asian', 'asian', 'asian', 'asian', 'asian', 'asian', 'asian', 'asian', 'asian', 'asian', 'asian', 'asian', 'asian', 'asian', 'asian', 'asian', 'asian', 'asian', 'asian', 'asian', 'asian', 'asian', 'asian', 'asian', 'asian', 'asian', 'asian', 'asian', 'asian', 'asian', 'asian', 'asian', 'asian', 'asian', 'asian', 'asian', 'asian', 'asian', 'asian', 'asian', 'asian', 'asian', 'asian', 'asian', 'asian', 'asian', 'asian', 'asian', 'asian', 'asian', 'asian', 'asian', 'asian', 'asian', 'asian', 'asian', 'asian', 'asian', 'asian', 'asian', 'asian', 'asian', 'asian', 'asian', 'asian', 'asian', 'asian', 'asian', 'asian', 'asian', 'asian', 'asian', 'asian', 'asian', 'asian', 'asian', 'asian', 'asian', 'asian', 'asian', 'asian', 'asian', 'asian', 'asian', 'asian', 'asian', 'asian', 'asian', 'asian', 'asian', 'asian', 'asian', 'asian', 'asian', 'asian', 'asian', 'asian', 'asian', 'asian', 'asian', 'asian', 'asian', 'asian', 'asian', 'asian', 'asian', 'asian', 'asian', 'asian', 'asian', 'asian', 'asian', 'asian', 'asian', 'asian', 'asian', 'asian', 'asian', 'asian', 'asian', 'asian', 'asian', 'asian', 'asian', 'asian', 'asian', 'asian', 'asian', 'asian', 'asian', 'asian', 'asian', 'asian', 'asian', 'asian', 'asian', 'asian', 'asian', 'asian', 'asian', 'asian', 'asian', 'asian', 'asian', 'asian', 'asian', 'asian', 'asian', 'asian', 'asian', 'asian', 'asian', 'asian', 'asian', 'asian', 'asian', 'asian', 'asian', 'asian', 'asian', 'asian', 'asian', 'asian', 'asian', 'asian', 'asian', 'asian', 'asian', 'asian', 'asian', 'asian', 'asian', 'asian', 'asian', 'asian', 'asian', 'asian', 'asian', 'asian', 'asian', 'asian', 'asian', 'asian', 'asian', 'asian', 'asian', 'asian', 'asian', 'asian', 'asian', 'asian', 'asian', 'asian', 'asian', 'asian', 'asian', 'asian', 'asian', 'asian', 'asian', 'asian', 'asian', 'asian', 'asian', 'asian', 'asian', 'asian', 'asian', 'asian', 'asian', 'asian', 'asian', 'asian', 'asian', 'asian', 'asian', 'asian', 'asian', 'asian', 'asian', 'asian', 'asian', 'asian', 'asian', 'asian', 'asian', 'asian', 'asian', 'asian', 'asian', 'asian', 'asian', 'asian', 'asian', 'asian', 'asian', 'asian', 'asian', 'asian', 'asian', 'asian', 'asian', 'asian', 'asian', 'asian', 'asian', 'asian', 'asian', 'asian', 'asian', 'asian', 'asian', 'asian', 'asian', 'asian', 'asian', 'asian', 'asian', 'asian', 'asian', 'asian', 'asian', 'asian', 'asian', 'asian', 'asian', 'asian', 'asian', 'asian', 'asian', 'asian', 'asian', 'asian', 'asian', 'asian', 'asian', 'asian', 'asian', 'asian', 'asian', 'asian', 'asian', 'asian', 'asian', 'asian', 'asian', 'asian', 'asian', 'asian', 'asian', 'asian', 'asian', 'asian', 'asian', 'asian', 'asian', 'asian', 'asian', 'asian', 'asian', 'asian', 'asian', 'asian', 'asian', 'asian', 'asian', 'asian', 'asian', 'asian', 'asian', 'asian', 'asian', 'asian', 'asian', 'asian', 'asian', 'asian', 'asian', 'asian', 'asian', 'asian', 'asian', 'asian']\n"
          ]
        }
      ]
    },
    {
      "cell_type": "code",
      "source": [
        "data = pd.DataFrame({'images': img_list,'cuisine': cuisine_list})\n",
        "data.head(20)"
      ],
      "metadata": {
        "colab": {
          "base_uri": "https://localhost:8080/",
          "height": 677
        },
        "id": "WpVvvZiZdXdK",
        "outputId": "3049d457-7a97-4519-a4d0-eb4b3fd7e57a"
      },
      "execution_count": null,
      "outputs": [
        {
          "output_type": "execute_result",
          "data": {
            "text/plain": [
              "      images      cuisine\n",
              "0   0590.jpg      african\n",
              "1   0589.jpg      african\n",
              "2   0588.jpg      african\n",
              "3   0090.jpg  unappealing\n",
              "4   0088.jpg  unappealing\n",
              "5   0089.jpg  unappealing\n",
              "6   0086.jpg  unappealing\n",
              "7   0087.jpg  unappealing\n",
              "8   0104.jpg  unappealing\n",
              "9   0107.jpg  unappealing\n",
              "10  0108.jpg  unappealing\n",
              "11  0106.jpg  unappealing\n",
              "12  0112.jpg  unappealing\n",
              "13  0111.jpg  unappealing\n",
              "14  0109.jpg  unappealing\n",
              "15  0113.jpg  unappealing\n",
              "16  0114.jpg  unappealing\n",
              "17  0122.jpg  unappealing\n",
              "18  0152.jpg  unappealing\n",
              "19  0153.jpg  unappealing"
            ],
            "text/html": [
              "\n",
              "\n",
              "  <div id=\"df-8475c4f5-fb5a-481f-9b3f-5f55df4be62c\">\n",
              "    <div class=\"colab-df-container\">\n",
              "      <div>\n",
              "<style scoped>\n",
              "    .dataframe tbody tr th:only-of-type {\n",
              "        vertical-align: middle;\n",
              "    }\n",
              "\n",
              "    .dataframe tbody tr th {\n",
              "        vertical-align: top;\n",
              "    }\n",
              "\n",
              "    .dataframe thead th {\n",
              "        text-align: right;\n",
              "    }\n",
              "</style>\n",
              "<table border=\"1\" class=\"dataframe\">\n",
              "  <thead>\n",
              "    <tr style=\"text-align: right;\">\n",
              "      <th></th>\n",
              "      <th>images</th>\n",
              "      <th>cuisine</th>\n",
              "    </tr>\n",
              "  </thead>\n",
              "  <tbody>\n",
              "    <tr>\n",
              "      <th>0</th>\n",
              "      <td>0590.jpg</td>\n",
              "      <td>african</td>\n",
              "    </tr>\n",
              "    <tr>\n",
              "      <th>1</th>\n",
              "      <td>0589.jpg</td>\n",
              "      <td>african</td>\n",
              "    </tr>\n",
              "    <tr>\n",
              "      <th>2</th>\n",
              "      <td>0588.jpg</td>\n",
              "      <td>african</td>\n",
              "    </tr>\n",
              "    <tr>\n",
              "      <th>3</th>\n",
              "      <td>0090.jpg</td>\n",
              "      <td>unappealing</td>\n",
              "    </tr>\n",
              "    <tr>\n",
              "      <th>4</th>\n",
              "      <td>0088.jpg</td>\n",
              "      <td>unappealing</td>\n",
              "    </tr>\n",
              "    <tr>\n",
              "      <th>5</th>\n",
              "      <td>0089.jpg</td>\n",
              "      <td>unappealing</td>\n",
              "    </tr>\n",
              "    <tr>\n",
              "      <th>6</th>\n",
              "      <td>0086.jpg</td>\n",
              "      <td>unappealing</td>\n",
              "    </tr>\n",
              "    <tr>\n",
              "      <th>7</th>\n",
              "      <td>0087.jpg</td>\n",
              "      <td>unappealing</td>\n",
              "    </tr>\n",
              "    <tr>\n",
              "      <th>8</th>\n",
              "      <td>0104.jpg</td>\n",
              "      <td>unappealing</td>\n",
              "    </tr>\n",
              "    <tr>\n",
              "      <th>9</th>\n",
              "      <td>0107.jpg</td>\n",
              "      <td>unappealing</td>\n",
              "    </tr>\n",
              "    <tr>\n",
              "      <th>10</th>\n",
              "      <td>0108.jpg</td>\n",
              "      <td>unappealing</td>\n",
              "    </tr>\n",
              "    <tr>\n",
              "      <th>11</th>\n",
              "      <td>0106.jpg</td>\n",
              "      <td>unappealing</td>\n",
              "    </tr>\n",
              "    <tr>\n",
              "      <th>12</th>\n",
              "      <td>0112.jpg</td>\n",
              "      <td>unappealing</td>\n",
              "    </tr>\n",
              "    <tr>\n",
              "      <th>13</th>\n",
              "      <td>0111.jpg</td>\n",
              "      <td>unappealing</td>\n",
              "    </tr>\n",
              "    <tr>\n",
              "      <th>14</th>\n",
              "      <td>0109.jpg</td>\n",
              "      <td>unappealing</td>\n",
              "    </tr>\n",
              "    <tr>\n",
              "      <th>15</th>\n",
              "      <td>0113.jpg</td>\n",
              "      <td>unappealing</td>\n",
              "    </tr>\n",
              "    <tr>\n",
              "      <th>16</th>\n",
              "      <td>0114.jpg</td>\n",
              "      <td>unappealing</td>\n",
              "    </tr>\n",
              "    <tr>\n",
              "      <th>17</th>\n",
              "      <td>0122.jpg</td>\n",
              "      <td>unappealing</td>\n",
              "    </tr>\n",
              "    <tr>\n",
              "      <th>18</th>\n",
              "      <td>0152.jpg</td>\n",
              "      <td>unappealing</td>\n",
              "    </tr>\n",
              "    <tr>\n",
              "      <th>19</th>\n",
              "      <td>0153.jpg</td>\n",
              "      <td>unappealing</td>\n",
              "    </tr>\n",
              "  </tbody>\n",
              "</table>\n",
              "</div>\n",
              "      <button class=\"colab-df-convert\" onclick=\"convertToInteractive('df-8475c4f5-fb5a-481f-9b3f-5f55df4be62c')\"\n",
              "              title=\"Convert this dataframe to an interactive table.\"\n",
              "              style=\"display:none;\">\n",
              "\n",
              "  <svg xmlns=\"http://www.w3.org/2000/svg\" height=\"24px\"viewBox=\"0 0 24 24\"\n",
              "       width=\"24px\">\n",
              "    <path d=\"M0 0h24v24H0V0z\" fill=\"none\"/>\n",
              "    <path d=\"M18.56 5.44l.94 2.06.94-2.06 2.06-.94-2.06-.94-.94-2.06-.94 2.06-2.06.94zm-11 1L8.5 8.5l.94-2.06 2.06-.94-2.06-.94L8.5 2.5l-.94 2.06-2.06.94zm10 10l.94 2.06.94-2.06 2.06-.94-2.06-.94-.94-2.06-.94 2.06-2.06.94z\"/><path d=\"M17.41 7.96l-1.37-1.37c-.4-.4-.92-.59-1.43-.59-.52 0-1.04.2-1.43.59L10.3 9.45l-7.72 7.72c-.78.78-.78 2.05 0 2.83L4 21.41c.39.39.9.59 1.41.59.51 0 1.02-.2 1.41-.59l7.78-7.78 2.81-2.81c.8-.78.8-2.07 0-2.86zM5.41 20L4 18.59l7.72-7.72 1.47 1.35L5.41 20z\"/>\n",
              "  </svg>\n",
              "      </button>\n",
              "\n",
              "\n",
              "\n",
              "    <div id=\"df-f664d18f-dc88-40f4-afd8-f1089d1a88a6\">\n",
              "      <button class=\"colab-df-quickchart\" onclick=\"quickchart('df-f664d18f-dc88-40f4-afd8-f1089d1a88a6')\"\n",
              "              title=\"Suggest charts.\"\n",
              "              style=\"display:none;\">\n",
              "\n",
              "<svg xmlns=\"http://www.w3.org/2000/svg\" height=\"24px\"viewBox=\"0 0 24 24\"\n",
              "     width=\"24px\">\n",
              "    <g>\n",
              "        <path d=\"M19 3H5c-1.1 0-2 .9-2 2v14c0 1.1.9 2 2 2h14c1.1 0 2-.9 2-2V5c0-1.1-.9-2-2-2zM9 17H7v-7h2v7zm4 0h-2V7h2v10zm4 0h-2v-4h2v4z\"/>\n",
              "    </g>\n",
              "</svg>\n",
              "      </button>\n",
              "    </div>\n",
              "\n",
              "<style>\n",
              "  .colab-df-quickchart {\n",
              "    background-color: #E8F0FE;\n",
              "    border: none;\n",
              "    border-radius: 50%;\n",
              "    cursor: pointer;\n",
              "    display: none;\n",
              "    fill: #1967D2;\n",
              "    height: 32px;\n",
              "    padding: 0 0 0 0;\n",
              "    width: 32px;\n",
              "  }\n",
              "\n",
              "  .colab-df-quickchart:hover {\n",
              "    background-color: #E2EBFA;\n",
              "    box-shadow: 0px 1px 2px rgba(60, 64, 67, 0.3), 0px 1px 3px 1px rgba(60, 64, 67, 0.15);\n",
              "    fill: #174EA6;\n",
              "  }\n",
              "\n",
              "  [theme=dark] .colab-df-quickchart {\n",
              "    background-color: #3B4455;\n",
              "    fill: #D2E3FC;\n",
              "  }\n",
              "\n",
              "  [theme=dark] .colab-df-quickchart:hover {\n",
              "    background-color: #434B5C;\n",
              "    box-shadow: 0px 1px 3px 1px rgba(0, 0, 0, 0.15);\n",
              "    filter: drop-shadow(0px 1px 2px rgba(0, 0, 0, 0.3));\n",
              "    fill: #FFFFFF;\n",
              "  }\n",
              "</style>\n",
              "\n",
              "    <script>\n",
              "      async function quickchart(key) {\n",
              "        const containerElement = document.querySelector('#' + key);\n",
              "        const charts = await google.colab.kernel.invokeFunction(\n",
              "            'suggestCharts', [key], {});\n",
              "      }\n",
              "    </script>\n",
              "\n",
              "      <script>\n",
              "\n",
              "function displayQuickchartButton(domScope) {\n",
              "  let quickchartButtonEl =\n",
              "    domScope.querySelector('#df-f664d18f-dc88-40f4-afd8-f1089d1a88a6 button.colab-df-quickchart');\n",
              "  quickchartButtonEl.style.display =\n",
              "    google.colab.kernel.accessAllowed ? 'block' : 'none';\n",
              "}\n",
              "\n",
              "        displayQuickchartButton(document);\n",
              "      </script>\n",
              "      <style>\n",
              "    .colab-df-container {\n",
              "      display:flex;\n",
              "      flex-wrap:wrap;\n",
              "      gap: 12px;\n",
              "    }\n",
              "\n",
              "    .colab-df-convert {\n",
              "      background-color: #E8F0FE;\n",
              "      border: none;\n",
              "      border-radius: 50%;\n",
              "      cursor: pointer;\n",
              "      display: none;\n",
              "      fill: #1967D2;\n",
              "      height: 32px;\n",
              "      padding: 0 0 0 0;\n",
              "      width: 32px;\n",
              "    }\n",
              "\n",
              "    .colab-df-convert:hover {\n",
              "      background-color: #E2EBFA;\n",
              "      box-shadow: 0px 1px 2px rgba(60, 64, 67, 0.3), 0px 1px 3px 1px rgba(60, 64, 67, 0.15);\n",
              "      fill: #174EA6;\n",
              "    }\n",
              "\n",
              "    [theme=dark] .colab-df-convert {\n",
              "      background-color: #3B4455;\n",
              "      fill: #D2E3FC;\n",
              "    }\n",
              "\n",
              "    [theme=dark] .colab-df-convert:hover {\n",
              "      background-color: #434B5C;\n",
              "      box-shadow: 0px 1px 3px 1px rgba(0, 0, 0, 0.15);\n",
              "      filter: drop-shadow(0px 1px 2px rgba(0, 0, 0, 0.3));\n",
              "      fill: #FFFFFF;\n",
              "    }\n",
              "  </style>\n",
              "\n",
              "      <script>\n",
              "        const buttonEl =\n",
              "          document.querySelector('#df-8475c4f5-fb5a-481f-9b3f-5f55df4be62c button.colab-df-convert');\n",
              "        buttonEl.style.display =\n",
              "          google.colab.kernel.accessAllowed ? 'block' : 'none';\n",
              "\n",
              "        async function convertToInteractive(key) {\n",
              "          const element = document.querySelector('#df-8475c4f5-fb5a-481f-9b3f-5f55df4be62c');\n",
              "          const dataTable =\n",
              "            await google.colab.kernel.invokeFunction('convertToInteractive',\n",
              "                                                     [key], {});\n",
              "          if (!dataTable) return;\n",
              "\n",
              "          const docLinkHtml = 'Like what you see? Visit the ' +\n",
              "            '<a target=\"_blank\" href=https://colab.research.google.com/notebooks/data_table.ipynb>data table notebook</a>'\n",
              "            + ' to learn more about interactive tables.';\n",
              "          element.innerHTML = '';\n",
              "          dataTable['output_type'] = 'display_data';\n",
              "          await google.colab.output.renderOutput(dataTable, element);\n",
              "          const docLink = document.createElement('div');\n",
              "          docLink.innerHTML = docLinkHtml;\n",
              "          element.appendChild(docLink);\n",
              "        }\n",
              "      </script>\n",
              "    </div>\n",
              "  </div>\n"
            ]
          },
          "metadata": {},
          "execution_count": 5
        }
      ]
    },
    {
      "cell_type": "code",
      "source": [
        "from sklearn.preprocessing import LabelEncoder\n",
        "le = LabelEncoder()\n",
        "data['target']=le.fit_transform(data.cuisine)\n",
        "data"
      ],
      "metadata": {
        "id": "MHjVdx-SdXiu",
        "colab": {
          "base_uri": "https://localhost:8080/",
          "height": 424
        },
        "outputId": "0fbe9fe0-602d-45d9-cb8b-c6a6d6f46cf4"
      },
      "execution_count": null,
      "outputs": [
        {
          "output_type": "execute_result",
          "data": {
            "text/plain": [
              "       images      cuisine  target\n",
              "0    0590.jpg      african       0\n",
              "1    0589.jpg      african       0\n",
              "2    0588.jpg      african       0\n",
              "3    0090.jpg  unappealing       3\n",
              "4    0088.jpg  unappealing       3\n",
              "..        ...          ...     ...\n",
              "880  0929.jpg        asian       1\n",
              "881  0932.jpg        asian       1\n",
              "882  0930.jpg        asian       1\n",
              "883  0931.jpg        asian       1\n",
              "884  0928.jpg        asian       1\n",
              "\n",
              "[885 rows x 3 columns]"
            ],
            "text/html": [
              "\n",
              "\n",
              "  <div id=\"df-bd999183-1b0a-44cc-b684-763944b9f8f9\">\n",
              "    <div class=\"colab-df-container\">\n",
              "      <div>\n",
              "<style scoped>\n",
              "    .dataframe tbody tr th:only-of-type {\n",
              "        vertical-align: middle;\n",
              "    }\n",
              "\n",
              "    .dataframe tbody tr th {\n",
              "        vertical-align: top;\n",
              "    }\n",
              "\n",
              "    .dataframe thead th {\n",
              "        text-align: right;\n",
              "    }\n",
              "</style>\n",
              "<table border=\"1\" class=\"dataframe\">\n",
              "  <thead>\n",
              "    <tr style=\"text-align: right;\">\n",
              "      <th></th>\n",
              "      <th>images</th>\n",
              "      <th>cuisine</th>\n",
              "      <th>target</th>\n",
              "    </tr>\n",
              "  </thead>\n",
              "  <tbody>\n",
              "    <tr>\n",
              "      <th>0</th>\n",
              "      <td>0590.jpg</td>\n",
              "      <td>african</td>\n",
              "      <td>0</td>\n",
              "    </tr>\n",
              "    <tr>\n",
              "      <th>1</th>\n",
              "      <td>0589.jpg</td>\n",
              "      <td>african</td>\n",
              "      <td>0</td>\n",
              "    </tr>\n",
              "    <tr>\n",
              "      <th>2</th>\n",
              "      <td>0588.jpg</td>\n",
              "      <td>african</td>\n",
              "      <td>0</td>\n",
              "    </tr>\n",
              "    <tr>\n",
              "      <th>3</th>\n",
              "      <td>0090.jpg</td>\n",
              "      <td>unappealing</td>\n",
              "      <td>3</td>\n",
              "    </tr>\n",
              "    <tr>\n",
              "      <th>4</th>\n",
              "      <td>0088.jpg</td>\n",
              "      <td>unappealing</td>\n",
              "      <td>3</td>\n",
              "    </tr>\n",
              "    <tr>\n",
              "      <th>...</th>\n",
              "      <td>...</td>\n",
              "      <td>...</td>\n",
              "      <td>...</td>\n",
              "    </tr>\n",
              "    <tr>\n",
              "      <th>880</th>\n",
              "      <td>0929.jpg</td>\n",
              "      <td>asian</td>\n",
              "      <td>1</td>\n",
              "    </tr>\n",
              "    <tr>\n",
              "      <th>881</th>\n",
              "      <td>0932.jpg</td>\n",
              "      <td>asian</td>\n",
              "      <td>1</td>\n",
              "    </tr>\n",
              "    <tr>\n",
              "      <th>882</th>\n",
              "      <td>0930.jpg</td>\n",
              "      <td>asian</td>\n",
              "      <td>1</td>\n",
              "    </tr>\n",
              "    <tr>\n",
              "      <th>883</th>\n",
              "      <td>0931.jpg</td>\n",
              "      <td>asian</td>\n",
              "      <td>1</td>\n",
              "    </tr>\n",
              "    <tr>\n",
              "      <th>884</th>\n",
              "      <td>0928.jpg</td>\n",
              "      <td>asian</td>\n",
              "      <td>1</td>\n",
              "    </tr>\n",
              "  </tbody>\n",
              "</table>\n",
              "<p>885 rows × 3 columns</p>\n",
              "</div>\n",
              "      <button class=\"colab-df-convert\" onclick=\"convertToInteractive('df-bd999183-1b0a-44cc-b684-763944b9f8f9')\"\n",
              "              title=\"Convert this dataframe to an interactive table.\"\n",
              "              style=\"display:none;\">\n",
              "\n",
              "  <svg xmlns=\"http://www.w3.org/2000/svg\" height=\"24px\"viewBox=\"0 0 24 24\"\n",
              "       width=\"24px\">\n",
              "    <path d=\"M0 0h24v24H0V0z\" fill=\"none\"/>\n",
              "    <path d=\"M18.56 5.44l.94 2.06.94-2.06 2.06-.94-2.06-.94-.94-2.06-.94 2.06-2.06.94zm-11 1L8.5 8.5l.94-2.06 2.06-.94-2.06-.94L8.5 2.5l-.94 2.06-2.06.94zm10 10l.94 2.06.94-2.06 2.06-.94-2.06-.94-.94-2.06-.94 2.06-2.06.94z\"/><path d=\"M17.41 7.96l-1.37-1.37c-.4-.4-.92-.59-1.43-.59-.52 0-1.04.2-1.43.59L10.3 9.45l-7.72 7.72c-.78.78-.78 2.05 0 2.83L4 21.41c.39.39.9.59 1.41.59.51 0 1.02-.2 1.41-.59l7.78-7.78 2.81-2.81c.8-.78.8-2.07 0-2.86zM5.41 20L4 18.59l7.72-7.72 1.47 1.35L5.41 20z\"/>\n",
              "  </svg>\n",
              "      </button>\n",
              "\n",
              "\n",
              "\n",
              "    <div id=\"df-99174de6-398d-4601-8474-6fdfed61dfbb\">\n",
              "      <button class=\"colab-df-quickchart\" onclick=\"quickchart('df-99174de6-398d-4601-8474-6fdfed61dfbb')\"\n",
              "              title=\"Suggest charts.\"\n",
              "              style=\"display:none;\">\n",
              "\n",
              "<svg xmlns=\"http://www.w3.org/2000/svg\" height=\"24px\"viewBox=\"0 0 24 24\"\n",
              "     width=\"24px\">\n",
              "    <g>\n",
              "        <path d=\"M19 3H5c-1.1 0-2 .9-2 2v14c0 1.1.9 2 2 2h14c1.1 0 2-.9 2-2V5c0-1.1-.9-2-2-2zM9 17H7v-7h2v7zm4 0h-2V7h2v10zm4 0h-2v-4h2v4z\"/>\n",
              "    </g>\n",
              "</svg>\n",
              "      </button>\n",
              "    </div>\n",
              "\n",
              "<style>\n",
              "  .colab-df-quickchart {\n",
              "    background-color: #E8F0FE;\n",
              "    border: none;\n",
              "    border-radius: 50%;\n",
              "    cursor: pointer;\n",
              "    display: none;\n",
              "    fill: #1967D2;\n",
              "    height: 32px;\n",
              "    padding: 0 0 0 0;\n",
              "    width: 32px;\n",
              "  }\n",
              "\n",
              "  .colab-df-quickchart:hover {\n",
              "    background-color: #E2EBFA;\n",
              "    box-shadow: 0px 1px 2px rgba(60, 64, 67, 0.3), 0px 1px 3px 1px rgba(60, 64, 67, 0.15);\n",
              "    fill: #174EA6;\n",
              "  }\n",
              "\n",
              "  [theme=dark] .colab-df-quickchart {\n",
              "    background-color: #3B4455;\n",
              "    fill: #D2E3FC;\n",
              "  }\n",
              "\n",
              "  [theme=dark] .colab-df-quickchart:hover {\n",
              "    background-color: #434B5C;\n",
              "    box-shadow: 0px 1px 3px 1px rgba(0, 0, 0, 0.15);\n",
              "    filter: drop-shadow(0px 1px 2px rgba(0, 0, 0, 0.3));\n",
              "    fill: #FFFFFF;\n",
              "  }\n",
              "</style>\n",
              "\n",
              "    <script>\n",
              "      async function quickchart(key) {\n",
              "        const containerElement = document.querySelector('#' + key);\n",
              "        const charts = await google.colab.kernel.invokeFunction(\n",
              "            'suggestCharts', [key], {});\n",
              "      }\n",
              "    </script>\n",
              "\n",
              "      <script>\n",
              "\n",
              "function displayQuickchartButton(domScope) {\n",
              "  let quickchartButtonEl =\n",
              "    domScope.querySelector('#df-99174de6-398d-4601-8474-6fdfed61dfbb button.colab-df-quickchart');\n",
              "  quickchartButtonEl.style.display =\n",
              "    google.colab.kernel.accessAllowed ? 'block' : 'none';\n",
              "}\n",
              "\n",
              "        displayQuickchartButton(document);\n",
              "      </script>\n",
              "      <style>\n",
              "    .colab-df-container {\n",
              "      display:flex;\n",
              "      flex-wrap:wrap;\n",
              "      gap: 12px;\n",
              "    }\n",
              "\n",
              "    .colab-df-convert {\n",
              "      background-color: #E8F0FE;\n",
              "      border: none;\n",
              "      border-radius: 50%;\n",
              "      cursor: pointer;\n",
              "      display: none;\n",
              "      fill: #1967D2;\n",
              "      height: 32px;\n",
              "      padding: 0 0 0 0;\n",
              "      width: 32px;\n",
              "    }\n",
              "\n",
              "    .colab-df-convert:hover {\n",
              "      background-color: #E2EBFA;\n",
              "      box-shadow: 0px 1px 2px rgba(60, 64, 67, 0.3), 0px 1px 3px 1px rgba(60, 64, 67, 0.15);\n",
              "      fill: #174EA6;\n",
              "    }\n",
              "\n",
              "    [theme=dark] .colab-df-convert {\n",
              "      background-color: #3B4455;\n",
              "      fill: #D2E3FC;\n",
              "    }\n",
              "\n",
              "    [theme=dark] .colab-df-convert:hover {\n",
              "      background-color: #434B5C;\n",
              "      box-shadow: 0px 1px 3px 1px rgba(0, 0, 0, 0.15);\n",
              "      filter: drop-shadow(0px 1px 2px rgba(0, 0, 0, 0.3));\n",
              "      fill: #FFFFFF;\n",
              "    }\n",
              "  </style>\n",
              "\n",
              "      <script>\n",
              "        const buttonEl =\n",
              "          document.querySelector('#df-bd999183-1b0a-44cc-b684-763944b9f8f9 button.colab-df-convert');\n",
              "        buttonEl.style.display =\n",
              "          google.colab.kernel.accessAllowed ? 'block' : 'none';\n",
              "\n",
              "        async function convertToInteractive(key) {\n",
              "          const element = document.querySelector('#df-bd999183-1b0a-44cc-b684-763944b9f8f9');\n",
              "          const dataTable =\n",
              "            await google.colab.kernel.invokeFunction('convertToInteractive',\n",
              "                                                     [key], {});\n",
              "          if (!dataTable) return;\n",
              "\n",
              "          const docLinkHtml = 'Like what you see? Visit the ' +\n",
              "            '<a target=\"_blank\" href=https://colab.research.google.com/notebooks/data_table.ipynb>data table notebook</a>'\n",
              "            + ' to learn more about interactive tables.';\n",
              "          element.innerHTML = '';\n",
              "          dataTable['output_type'] = 'display_data';\n",
              "          await google.colab.output.renderOutput(dataTable, element);\n",
              "          const docLink = document.createElement('div');\n",
              "          docLink.innerHTML = docLinkHtml;\n",
              "          element.appendChild(docLink);\n",
              "        }\n",
              "      </script>\n",
              "    </div>\n",
              "  </div>\n"
            ]
          },
          "metadata": {},
          "execution_count": 8
        }
      ]
    },
    {
      "cell_type": "code",
      "source": [
        "print(data.cuisine.unique())\n",
        "print(data.info())"
      ],
      "metadata": {
        "colab": {
          "base_uri": "https://localhost:8080/"
        },
        "id": "b4I39eBNdXgJ",
        "outputId": "941d4265-7d6f-4d5a-c750-e0b6758bca42"
      },
      "execution_count": null,
      "outputs": [
        {
          "output_type": "stream",
          "name": "stdout",
          "text": [
            "['african' 'unappealing' 'universal' 'non_food' 'western' 'asian']\n",
            "<class 'pandas.core.frame.DataFrame'>\n",
            "RangeIndex: 885 entries, 0 to 884\n",
            "Data columns (total 3 columns):\n",
            " #   Column   Non-Null Count  Dtype \n",
            "---  ------   --------------  ----- \n",
            " 0   images   885 non-null    object\n",
            " 1   cuisine  885 non-null    object\n",
            " 2   target   885 non-null    int64 \n",
            "dtypes: int64(1), object(2)\n",
            "memory usage: 20.9+ KB\n",
            "None\n"
          ]
        }
      ]
    },
    {
      "cell_type": "code",
      "source": [
        "# 4. Function to display images and obtain image size\n",
        "def display_image(target):\n",
        "    for data in target:\n",
        "      #Prepare first image from each cuisine\n",
        "      p1 = '/content/gdrive/My Drive/YOLO/data/Plated_Foods/train/'+data + '/'\n",
        "      file = os.listdir(p1)\n",
        "      img=mpimg.imread(p1+file[0])\n",
        "      #print(p1+file[0])\n",
        "\n",
        "      # Display\n",
        "      #plt.title(data)\n",
        "      #plt.imshow(img)\n",
        "      #plt.show()\n",
        "\n",
        "      #Checking image size\n",
        "      im1 = cv2.imread(p1+file[0])\n",
        "      #      print(im1.shape[:4])\n",
        "      #Normalizing the images\n",
        "      #im1 =im1/255.0\n",
        "      #print(im1)\n",
        "      size  = im1.shape[:4]\n",
        "    return size\n",
        "display_image(target)"
      ],
      "metadata": {
        "colab": {
          "base_uri": "https://localhost:8080/"
        },
        "id": "oZaacGhWOxsY",
        "outputId": "4ba28d1f-5a73-4e9f-eac0-5aa1086502a8"
      },
      "execution_count": null,
      "outputs": [
        {
          "output_type": "execute_result",
          "data": {
            "text/plain": [
              "(3456, 5184, 3)"
            ]
          },
          "metadata": {},
          "execution_count": 11
        }
      ]
    },
    {
      "cell_type": "code",
      "source": [
        "# 5. DEFINING HYPER PARAMETERS FOR CNN MODEL\n",
        "# Observation: Adding just 2 layers was leading to Out of Memory error. Adding more Conv2D layers helped removing the error in ANN model\n",
        "size = display_image(target)\n",
        "filters = int(size[0]/2)\n",
        "kernels = (3,3)\n",
        "output_length = len(labels)\n",
        "print(\"Size={}, Filters = {}, Kernels = {}, Number of Classes={}\".format(size, filters, kernels, output_length))\n",
        "\n",
        "cnn_models = models.Sequential()\n",
        "cnn_models.add(layers.Conv2D(input_shape=size,filters = filters, kernel_size=kernels,activation='relu'))\n",
        "cnn_models.add(layers.MaxPooling2D((2,2))) #1\n",
        "cnn_models.add(layers.Conv2D(filters = filters/2, kernel_size=kernels,activation='relu'))\n",
        "cnn_models.add(layers.MaxPooling2D((2,2))) #2\n",
        "cnn_models.add(layers.Conv2D(filters = int(filters/4), kernel_size=kernels,activation='relu'))\n",
        "cnn_models.add(layers.MaxPooling2D((2,2))) #3\n",
        "cnn_models.add(layers.Conv2D(filters = int(filters/8), kernel_size=kernels,activation='relu'))\n",
        "cnn_models.add(layers.MaxPooling2D((2,2))) #4\n",
        "cnn_models.add(layers.Conv2D(filters = int(filters/16), kernel_size=kernels,activation='relu'))\n",
        "cnn_models.add(layers.MaxPooling2D((2,2))) #5\n",
        "cnn_models.add(layers.Conv2D(filters = int(filters/16), kernel_size=kernels,activation='relu'))\n",
        "#cnn_models.add(layers.MaxPooling2D((2,2))) #6\n",
        "\n",
        "#cnn_models.add(layers.Conv2D(filters = int(filters/32), kernel_size=kernels,activation='relu'))\n",
        "\n",
        "cnn_models.summary()"
      ],
      "metadata": {
        "colab": {
          "base_uri": "https://localhost:8080/"
        },
        "id": "8no3EHoyLZgT",
        "outputId": "36272389-3a40-40ee-d147-d53a638d79d7"
      },
      "execution_count": null,
      "outputs": [
        {
          "output_type": "stream",
          "name": "stdout",
          "text": [
            "Size=(3456, 5184, 3), Filters = 1728, Kernels = (3, 3), Number of Classes=6\n",
            "Model: \"sequential\"\n",
            "_________________________________________________________________\n",
            " Layer (type)                Output Shape              Param #   \n",
            "=================================================================\n",
            " conv2d (Conv2D)             (None, 3454, 5182, 1728)  48384     \n",
            "                                                                 \n",
            " max_pooling2d (MaxPooling2D  (None, 1727, 2591, 1728)  0        \n",
            " )                                                               \n",
            "                                                                 \n",
            " conv2d_1 (Conv2D)           (None, 1725, 2589, 1728)  26875584  \n",
            "                                                                 \n",
            " max_pooling2d_1 (MaxPooling  (None, 862, 1294, 1728)  0         \n",
            " 2D)                                                             \n",
            "                                                                 \n",
            " conv2d_2 (Conv2D)           (None, 860, 1292, 864)    13437792  \n",
            "                                                                 \n",
            " max_pooling2d_2 (MaxPooling  (None, 430, 646, 864)    0         \n",
            " 2D)                                                             \n",
            "                                                                 \n",
            " conv2d_3 (Conv2D)           (None, 428, 644, 432)     3359664   \n",
            "                                                                 \n",
            " max_pooling2d_3 (MaxPooling  (None, 214, 322, 432)    0         \n",
            " 2D)                                                             \n",
            "                                                                 \n",
            " conv2d_4 (Conv2D)           (None, 212, 320, 216)     840024    \n",
            "                                                                 \n",
            " max_pooling2d_4 (MaxPooling  (None, 106, 160, 216)    0         \n",
            " 2D)                                                             \n",
            "                                                                 \n",
            " conv2d_5 (Conv2D)           (None, 104, 158, 108)     210060    \n",
            "                                                                 \n",
            "=================================================================\n",
            "Total params: 44,771,508\n",
            "Trainable params: 44,771,508\n",
            "Non-trainable params: 0\n",
            "_________________________________________________________________\n"
          ]
        }
      ]
    },
    {
      "cell_type": "code",
      "source": [
        "# ANN MODEL:\n",
        "cnn_models.add(layers.Flatten())\n",
        "cnn_models.add(layers.Dense(108,activation='relu', input_shape=(104,158)))\n",
        "cnn_models.add(layers.Dense(output_length,activation='softmax'))\n",
        "cnn_models.summary()"
      ],
      "metadata": {
        "colab": {
          "base_uri": "https://localhost:8080/"
        },
        "id": "G4uYa1etLZiw",
        "outputId": "83a75108-1c28-4f03-81ed-97d3dde297aa"
      },
      "execution_count": null,
      "outputs": [
        {
          "output_type": "stream",
          "name": "stdout",
          "text": [
            "Model: \"sequential\"\n",
            "_________________________________________________________________\n",
            " Layer (type)                Output Shape              Param #   \n",
            "=================================================================\n",
            " conv2d (Conv2D)             (None, 3454, 5182, 1728)  48384     \n",
            "                                                                 \n",
            " max_pooling2d (MaxPooling2D  (None, 1727, 2591, 1728)  0        \n",
            " )                                                               \n",
            "                                                                 \n",
            " conv2d_1 (Conv2D)           (None, 1725, 2589, 1728)  26875584  \n",
            "                                                                 \n",
            " max_pooling2d_1 (MaxPooling  (None, 862, 1294, 1728)  0         \n",
            " 2D)                                                             \n",
            "                                                                 \n",
            " conv2d_2 (Conv2D)           (None, 860, 1292, 864)    13437792  \n",
            "                                                                 \n",
            " max_pooling2d_2 (MaxPooling  (None, 430, 646, 864)    0         \n",
            " 2D)                                                             \n",
            "                                                                 \n",
            " conv2d_3 (Conv2D)           (None, 428, 644, 432)     3359664   \n",
            "                                                                 \n",
            " max_pooling2d_3 (MaxPooling  (None, 214, 322, 432)    0         \n",
            " 2D)                                                             \n",
            "                                                                 \n",
            " conv2d_4 (Conv2D)           (None, 212, 320, 216)     840024    \n",
            "                                                                 \n",
            " max_pooling2d_4 (MaxPooling  (None, 106, 160, 216)    0         \n",
            " 2D)                                                             \n",
            "                                                                 \n",
            " conv2d_5 (Conv2D)           (None, 104, 158, 108)     210060    \n",
            "                                                                 \n",
            " flatten (Flatten)           (None, 1774656)           0         \n",
            "                                                                 \n",
            " dense (Dense)               (None, 108)               191662956 \n",
            "                                                                 \n",
            " dense_1 (Dense)             (None, 6)                 654       \n",
            "                                                                 \n",
            "=================================================================\n",
            "Total params: 236,435,118\n",
            "Trainable params: 236,435,118\n",
            "Non-trainable params: 0\n",
            "_________________________________________________________________\n"
          ]
        }
      ]
    },
    {
      "cell_type": "code",
      "source": [
        "x = data['images']\n",
        "y = data['target']\n",
        "\n",
        "\n",
        "from sklearn.model_selection import train_test_split\n",
        "x_train,x_test,y_train,y_test = train_test_split(x,y, test_size=None)"
      ],
      "metadata": {
        "id": "lmz2EaQoJmr_"
      },
      "execution_count": null,
      "outputs": []
    },
    {
      "cell_type": "code",
      "source": [
        "y_train.shape, x_train.shape"
      ],
      "metadata": {
        "colab": {
          "base_uri": "https://localhost:8080/"
        },
        "id": "kYkgGMf3IF6C",
        "outputId": "44806e94-9aa6-4607-df51-78d3ee5a560e"
      },
      "execution_count": null,
      "outputs": [
        {
          "output_type": "execute_result",
          "data": {
            "text/plain": [
              "((663,), (663,))"
            ]
          },
          "metadata": {},
          "execution_count": 30
        }
      ]
    },
    {
      "cell_type": "code",
      "source": [
        "from tensorflow.keras.utils import to_categorical\n",
        "y_train = to_categorical(y_train)\n",
        "#x_train = to_categorical(data.images)\n",
        "y_train"
      ],
      "metadata": {
        "colab": {
          "base_uri": "https://localhost:8080/"
        },
        "id": "NuBjfXPeJ1lT",
        "outputId": "ff0aa865-2b94-4ae3-9e48-21dad030ea20"
      },
      "execution_count": null,
      "outputs": [
        {
          "output_type": "execute_result",
          "data": {
            "text/plain": [
              "array([[0., 0., 1., 0., 0., 0.],\n",
              "       [0., 0., 0., 1., 0., 0.],\n",
              "       [0., 0., 1., 0., 0., 0.],\n",
              "       ...,\n",
              "       [0., 1., 0., 0., 0., 0.],\n",
              "       [0., 1., 0., 0., 0., 0.],\n",
              "       [0., 0., 1., 0., 0., 0.]], dtype=float32)"
            ]
          },
          "metadata": {},
          "execution_count": 33
        }
      ]
    },
    {
      "cell_type": "code",
      "source": [
        "cnn_models.compile(optimizer='adam', loss='CategoricalCrossEntropy', metrics=['accuracy'])\n",
        "cnn_models.fit(x=x_train,y=y_train,batch_size=100, epochs=1)"
      ],
      "metadata": {
        "id": "-ShnI7aULZmP"
      },
      "execution_count": null,
      "outputs": []
    },
    {
      "cell_type": "code",
      "source": [],
      "metadata": {
        "id": "n6Eu9i3FdXk4",
        "colab": {
          "base_uri": "https://localhost:8080/"
        },
        "outputId": "52d611cb-069b-4bfd-910b-fde7aaa371b3"
      },
      "execution_count": null,
      "outputs": [
        {
          "output_type": "execute_result",
          "data": {
            "text/plain": [
              "array([[1., 0., 0., 0., 0., 0.],\n",
              "       [1., 0., 0., 0., 0., 0.],\n",
              "       [1., 0., 0., 0., 0., 0.],\n",
              "       ...,\n",
              "       [0., 1., 0., 0., 0., 0.],\n",
              "       [0., 1., 0., 0., 0., 0.],\n",
              "       [0., 1., 0., 0., 0., 0.]], dtype=float32)"
            ]
          },
          "metadata": {},
          "execution_count": 38
        }
      ]
    },
    {
      "cell_type": "code",
      "source": [],
      "metadata": {
        "id": "4gfpOavQdXoR"
      },
      "execution_count": null,
      "outputs": []
    },
    {
      "cell_type": "markdown",
      "source": [
        "\n",
        "\n",
        "##  ----CNN ENDS---\n"
      ],
      "metadata": {
        "id": "fZWD5J3zTXDn"
      }
    },
    {
      "cell_type": "markdown",
      "source": [
        "**YOLO MODEL BUILDING**"
      ],
      "metadata": {
        "id": "4MUcC4moTGxU"
      }
    },
    {
      "cell_type": "code",
      "execution_count": null,
      "metadata": {
        "id": "5pb3cGW4TqKE"
      },
      "outputs": [],
      "source": [
        "# 1. Install Libraries and Packages\n",
        "\n",
        "!pip install ultralytics\n",
        "from ultralytics import YOLO"
      ]
    },
    {
      "cell_type": "code",
      "source": [
        "# Load the TensorBoard notebook extension\n",
        "#%load_ext tensorboard"
      ],
      "metadata": {
        "id": "OFPxyM1Gow79"
      },
      "execution_count": null,
      "outputs": []
    },
    {
      "cell_type": "code",
      "source": [
        "# 2. list the folders in my drive and then list the folders in data folder\n",
        "!ls '/content/gdrive/My Drive/YOLO/data'"
      ],
      "metadata": {
        "id": "Iw1DxaFDBac9"
      },
      "execution_count": null,
      "outputs": []
    },
    {
      "cell_type": "code",
      "source": [
        "# 3. Save the data directory path\n",
        "DATA_DIR = '/content/gdrive/My Drive/YOLO/data/Plated_Foods/'"
      ],
      "metadata": {
        "id": "zH7_hvIxYnl5"
      },
      "execution_count": null,
      "outputs": []
    },
    {
      "cell_type": "code",
      "source": [
        "# 4.\n",
        "# a. building YOLO pre trained model\n",
        "# b. Training the model on dataset in my drive\n",
        "model = YOLO(\"yolov8n-cls.pt\")\n",
        "result = model.train(data=DATA_DIR, epochs=2, imgsz=64)\n"
      ],
      "metadata": {
        "id": "3Ce-8BopB8VJ"
      },
      "execution_count": null,
      "outputs": []
    },
    {
      "cell_type": "code",
      "source": [
        "#5. Transferring results from Tensorboard to google drive speicified path\n",
        "!scp -r /content/runs '/content/gdrive/My Drive/YOLO/'"
      ],
      "metadata": {
        "id": "lIv6AljdrC3u"
      },
      "execution_count": null,
      "outputs": []
    },
    {
      "cell_type": "code",
      "source": [
        "# 6. Pulling results from results.csv in runs folder\n",
        "\n",
        "results_path= '/content/gdrive/My Drive/YOLO/runs/classify/train4/results.csv'\n",
        "result = pd.read_csv(results_path)\n",
        "result.head(10)"
      ],
      "metadata": {
        "id": "LdCpIbbhvvy6"
      },
      "execution_count": null,
      "outputs": []
    },
    {
      "cell_type": "code",
      "source": [
        "# 7. Plotting accuracy for different epochs\n",
        "plt.figure()\n",
        "plt.plot(result['                  epoch'], result['             train/loss'], label = 'Loss of Training Datasubset')\n",
        "plt.plot(result['                  epoch'], result['               val/loss'], label = 'Loss of Validation Datasubset', c = 'red')\n",
        "plt.grid()\n",
        "plt.title('Loss vs. Epochs')\n",
        "plt.ylabel('Loss')\n",
        "plt.xlabel('Epochs')\n",
        "plt.legend()"
      ],
      "metadata": {
        "colab": {
          "base_uri": "https://localhost:8080/",
          "height": 489
        },
        "id": "PbCxkbJMwcH6",
        "outputId": "28700ea6-5804-4e0c-c36e-5b3387a50771"
      },
      "execution_count": null,
      "outputs": [
        {
          "output_type": "execute_result",
          "data": {
            "text/plain": [
              "<matplotlib.legend.Legend at 0x7807546efd90>"
            ]
          },
          "metadata": {},
          "execution_count": 47
        },
        {
          "output_type": "display_data",
          "data": {
            "text/plain": [
              "<Figure size 640x480 with 1 Axes>"
            ],
            "image/png": "[encoded data removed]"
          },
          "metadata": {}
        }
      ]
    },
    {
      "cell_type": "code",
      "source": [],
      "metadata": {
        "id": "V4byYgI2wtCl"
      },
      "execution_count": null,
      "outputs": []
    }
  ]
}